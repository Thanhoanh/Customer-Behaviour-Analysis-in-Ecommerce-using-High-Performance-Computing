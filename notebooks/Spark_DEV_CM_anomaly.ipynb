{
  "nbformat": 4,
  "nbformat_minor": 0,
  "metadata": {
    "colab": {
      "provenance": []
    },
    "kernelspec": {
      "name": "python3",
      "display_name": "Python 3"
    },
    "language_info": {
      "name": "python"
    }
  },
  "cells": [
    {
      "cell_type": "code",
      "execution_count": null,
      "metadata": {
        "colab": {
          "base_uri": "https://localhost:8080/"
        },
        "id": "UYcpJt9m-kRd",
        "outputId": "edad496c-0236-48ce-97fc-933685bd7805"
      },
      "outputs": [
        {
          "output_type": "stream",
          "name": "stdout",
          "text": [
            "Mounted at /content/drive\n"
          ]
        }
      ],
      "source": [
        "# prompt: kết nối với drive\n",
        "\n",
        "from google.colab import drive\n",
        "drive.mount('/content/drive')"
      ]
    },
    {
      "cell_type": "code",
      "source": [
        "from pyspark.sql import SparkSession, functions as F\n",
        "from sklearn.ensemble import IsolationForest\n",
        "from sklearn.preprocessing import StandardScaler\n",
        "import pandas as pd\n",
        "from pyspark.sql.functions import max, datediff, countDistinct, sum as Fsum, col\n",
        "import pyspark.sql.functions as F\n",
        "import numpy as np\n",
        "\n",
        "# Tạo Spark session\n",
        "spark = SparkSession.builder.appName(\"SklearnIsolationForest\").getOrCreate()\n",
        "\n",
        "# Ví dụ: DataFrame đã có RFM\n",
        "df = spark.read.csv(\"/content/df_cleaned.csv\", header=True, inferSchema=True)\n",
        "\n",
        "# Ngày phân tích\n",
        "snapshot_date = df.agg(max(\"InvoiceDate\")).collect()[0][0]\n",
        "\n",
        "rfm_df = df.groupBy(\"Customer ID\").agg(\n",
        "    datediff(\n",
        "        F.lit(snapshot_date), max(\"InvoiceDate\")\n",
        "    ).alias(\"Recency\"),\n",
        "    countDistinct(\"Invoice\").alias(\"Frequency\"),\n",
        "    Fsum(col(\"Quantity\") * col(\"Price\")).alias(\"Monetary\")\n",
        ")\n",
        "\n",
        "rfm_df.head(5)\n"
      ],
      "metadata": {
        "colab": {
          "base_uri": "https://localhost:8080/"
        },
        "id": "82TFfX24-ynF",
        "outputId": "8d1715bd-1f15-43a8-d4f0-0b6caacceefa"
      },
      "execution_count": null,
      "outputs": [
        {
          "output_type": "stream",
          "name": "stdout",
          "text": [
            "+-----------+--------------------+\n",
            "|Customer ID|       anomaly_score|\n",
            "+-----------+--------------------+\n",
            "|      17389|-0.11653326934861896|\n",
            "|      12471|-0.09875141847319668|\n",
            "|      13468|-0.03153693353814502|\n",
            "|      17677| -0.0829755567064091|\n",
            "|      15633|-0.00331344735277...|\n",
            "|      16839|-0.02669899626819605|\n",
            "|      14160|-0.03548451206342...|\n",
            "|      16684|-0.14752622798916393|\n",
            "|      16553|-0.03874064105462...|\n",
            "|      13081|-0.06758719533674828|\n",
            "|      14096|-0.05190747208111435|\n",
            "|      17448|-0.10995273509742787|\n",
            "|      17811|-1.10587272937445...|\n",
            "|      12709|-0.02900216441663428|\n",
            "|      13694|-0.18475879894870806|\n",
            "|      15856|-0.07609034705546469|\n",
            "|      14606|-0.12345894764356402|\n",
            "|      13098|-0.00209909688834...|\n",
            "|      18102|-0.19085671853794295|\n",
            "|      12980|-0.00901289222468...|\n",
            "+-----------+--------------------+\n",
            "only showing top 20 rows\n",
            "\n"
          ]
        }
      ]
    },
    {
      "cell_type": "code",
      "source": [
        "# Bước 2: Chuyển Spark DataFrame → Pandas\n",
        "rfm_pd = rfm_df.dropna().toPandas()\n",
        "\n",
        "# Bước 3: Scale dữ liệu bằng StandardScaler\n",
        "scaler = StandardScaler()\n",
        "scaled_features = scaler.fit_transform(rfm_pd[[\"Recency\", \"Frequency\", \"Monetary\"]])\n",
        "\n",
        "# Bước 4: Chạy Isolation Forest\n",
        "isoforest = IsolationForest(n_estimators=100, contamination=0.02, random_state=42)\n",
        "rfm_pd[\"anomaly\"] = isoforest.fit_predict(scaled_features)\n",
        "rfm_pd[\"anomaly_score\"] = isoforest.decision_function(scaled_features)\n",
        "\n",
        "\n",
        "# Bước 5: Chuyển lại Spark DataFrame nếu cần\n",
        "df_anomaly = spark.createDataFrame(rfm_pd)\n",
        "\n",
        "# Xem top 10 khách hàng bất thường\n",
        "df_anomaly.filter(\"anomaly == -1\").select(\"Customer ID\", \"anomaly_score\").show(10)"
      ],
      "metadata": {
        "colab": {
          "base_uri": "https://localhost:8080/"
        },
        "id": "VpUx6ZjMCR6e",
        "outputId": "fb89acb1-cfb3-41d8-fb8a-e09bb5f59f93"
      },
      "execution_count": null,
      "outputs": [
        {
          "output_type": "stream",
          "name": "stdout",
          "text": [
            "+-----------+--------------------+\n",
            "|Customer ID|       anomaly_score|\n",
            "+-----------+--------------------+\n",
            "|      17389|-0.11653326934861896|\n",
            "|      12471|-0.09875141847319668|\n",
            "|      13468|-0.03153693353814502|\n",
            "|      17677| -0.0829755567064091|\n",
            "|      15633|-0.00331344735277...|\n",
            "|      16839|-0.02669899626819605|\n",
            "|      14160|-0.03548451206342...|\n",
            "|      16684|-0.14752622798916393|\n",
            "|      16553|-0.03874064105462...|\n",
            "|      13081|-0.06758719533674828|\n",
            "+-----------+--------------------+\n",
            "only showing top 10 rows\n",
            "\n"
          ]
        }
      ]
    },
    {
      "cell_type": "code",
      "source": [
        "# prompt: Ngưỡng anomaly_score để bị coi là bất thường\n",
        "\n",
        "anomaly_threshold = df_anomaly.filter(\"anomaly == -1\").select(F.min(\"anomaly_score\")).collect()[0][0]\n",
        "print(f\"Ngưỡng anomaly_score để bị coi là bất thường: {anomaly_threshold}\")"
      ],
      "metadata": {
        "colab": {
          "base_uri": "https://localhost:8080/"
        },
        "id": "mKBwL1wDEt57",
        "outputId": "0abf271b-7080-4e44-d882-30ba1a795b9f"
      },
      "execution_count": null,
      "outputs": [
        {
          "output_type": "stream",
          "name": "stdout",
          "text": [
            "Ngưỡng anomaly_score để bị coi là bất thường: -0.1953201614148805\n"
          ]
        }
      ]
    },
    {
      "cell_type": "code",
      "source": [
        "# prompt:  hiển thị top 10 khách hàng bất thường dựa trên điểm anomaly_score tăng dần\n",
        "\n",
        "df_anomaly.filter(\"anomaly == -1\").select(\"Customer ID\", \"anomaly_score\").orderBy(F.asc(\"anomaly_score\")).show(10)"
      ],
      "metadata": {
        "colab": {
          "base_uri": "https://localhost:8080/"
        },
        "id": "IbF4a4ojEA_I",
        "outputId": "eb7122ed-348b-426d-acbb-bdc758eb8087"
      },
      "execution_count": null,
      "outputs": [
        {
          "output_type": "stream",
          "name": "stdout",
          "text": [
            "+-----------+--------------------+\n",
            "|Customer ID|       anomaly_score|\n",
            "+-----------+--------------------+\n",
            "|      14911| -0.1953201614148805|\n",
            "|      14646| -0.1930854200738863|\n",
            "|      14156|-0.19197031535154985|\n",
            "|      18102|-0.19085671853794295|\n",
            "|      13694|-0.18475879894870806|\n",
            "|      15311|-0.18255260165851595|\n",
            "|      13089| -0.1798032381461453|\n",
            "|      15061|-0.17433233534588222|\n",
            "|      16029|-0.17433233534588222|\n",
            "|      17850|-0.16662298655765873|\n",
            "+-----------+--------------------+\n",
            "only showing top 10 rows\n",
            "\n"
          ]
        }
      ]
    },
    {
      "cell_type": "code",
      "source": [
        "# prompt: hiển thị top 10 khách hàng bất thường dựa trên điểm anomaly_score giảm dần\n",
        "\n",
        "df_anomaly.filter(\"anomaly == -1\").select(\"Customer ID\", \"anomaly_score\").orderBy(F.desc(\"anomaly_score\")).show(10)\n"
      ],
      "metadata": {
        "colab": {
          "base_uri": "https://localhost:8080/"
        },
        "id": "olgfBmveCWfF",
        "outputId": "d7aeb486-a3b4-4543-eb9f-24a321ac1f02"
      },
      "execution_count": null,
      "outputs": [
        {
          "output_type": "stream",
          "name": "stdout",
          "text": [
            "+-----------+--------------------+\n",
            "|Customer ID|       anomaly_score|\n",
            "+-----------+--------------------+\n",
            "|      17811|-1.10587272937445...|\n",
            "|      16746|-4.24577771667933...|\n",
            "|      14258|-0.00109884082548...|\n",
            "|      13098|-0.00209909688834...|\n",
            "|      14028|-0.00217298378235...|\n",
            "|      15633|-0.00331344735277...|\n",
            "|      18087|-0.00383009960012...|\n",
            "|      14849|-0.00395827370890...|\n",
            "|      14590|-0.00421969064868...|\n",
            "|      14051|-0.00597922920559002|\n",
            "+-----------+--------------------+\n",
            "only showing top 10 rows\n",
            "\n"
          ]
        }
      ]
    },
    {
      "cell_type": "code",
      "source": [
        "# prompt: # Đếm số lượng khách hàng bất thường  # Đếm tổng số khách hàng\n",
        "# # Tỷ lệ khách hàng bất thường # Hiển thị các khách hàng bất thường\n",
        "\n",
        "# Đếm số lượng khách hàng bất thường\n",
        "num_anomalies = df_anomaly.filter(\"anomaly == -1\").count()\n",
        "\n",
        "# Đếm tổng số khách hàng\n",
        "total_customers = df_anomaly.count()\n",
        "\n",
        "# Tỷ lệ khách hàng bất thường\n",
        "anomaly_ratio = (num_anomalies / total_customers)\n",
        "\n",
        "print(f\"Số lượng khách hàng bất thường: {num_anomalies}\")\n",
        "print(f\"Tổng số khách hàng: {total_customers}\")\n",
        "print(f\"Tỷ lệ khách hàng bất thường: {anomaly_ratio:.2f}%\")\n",
        "\n",
        "# Hiển thị các khách hàng bất thường (đã được thực hiện ở trên, nhưng lặp lại để rõ ràng)\n",
        "print(\"\\nCác khách hàng bất thường:\")\n",
        "df_anomaly.filter(\"anomaly == -1\").select(\"Customer ID\", \"Recency\", \"Frequency\", \"Monetary\", \"anomaly_score\").show(truncate=False)\n"
      ],
      "metadata": {
        "colab": {
          "base_uri": "https://localhost:8080/"
        },
        "id": "E4aTZuReBYkl",
        "outputId": "1d765c2c-4b98-4cee-91aa-c78536206292"
      },
      "execution_count": null,
      "outputs": [
        {
          "output_type": "stream",
          "name": "stdout",
          "text": [
            "Số lượng khách hàng bất thường: 118\n",
            "Tổng số khách hàng: 5863\n",
            "Tỷ lệ khách hàng bất thường: 0.02%\n",
            "\n",
            "Các khách hàng bất thường:\n",
            "+-----------+-------+---------+------------------+--------------------+\n",
            "|Customer ID|Recency|Frequency|          Monetary|       anomaly_score|\n",
            "+-----------+-------+---------+------------------+--------------------+\n",
            "|      17389|      0|       61| 57224.67999999999|-0.11653326934861896|\n",
            "|      12471|      2|       76| 39873.79000000001|-0.09875141847319668|\n",
            "|      13468|      1|       72|          13390.51|-0.03153693353814502|\n",
            "|      17677|      1|       54|          36692.91| -0.0829755567064091|\n",
            "|      15633|    509|       13| 4352.459999999999|-0.00331344735277...|\n",
            "|      16839|      8|       44|          22310.49|-0.02669899626819605|\n",
            "|      14160|    610|        7|           8421.47|-0.03548451206342...|\n",
            "|      16684|      4|       55|147142.77000000002|-0.14752622798916393|\n",
            "|      16553|    163|       33|16644.010000000002|-0.03874064105462...|\n",
            "|      13081|     11|       28| 59205.14999999999|-0.06758719533674828|\n",
            "|      14096|      4|       17|65164.790000000095|-0.05190747208111435|\n",
            "|      17448|    497|       46|14556.970000000001|-0.10995273509742787|\n",
            "|      17811|      4|       47|            9603.1|-1.10587272937445...|\n",
            "|      12709|     15|       34|31093.340000000004|-0.02900216441663428|\n",
            "|      13694|      3|      143|196482.81000000006|-0.18475879894870806|\n",
            "|      15856|      4|       52|34219.079999999994|-0.07609034705546469|\n",
            "|      14606|      1|      190|30753.439999999988|-0.12345894764356402|\n",
            "|      13098|      1|       28|          28882.44|-0.00209909688834...|\n",
            "|      18102|      0|      145| 608821.6499999997|-0.19085671853794295|\n",
            "|      12980|    157|       21|16245.779999999999|-0.00901289222468...|\n",
            "+-----------+-------+---------+------------------+--------------------+\n",
            "only showing top 20 rows\n",
            "\n"
          ]
        }
      ]
    },
    {
      "cell_type": "code",
      "source": [
        "# prompt: thống kê mô tả khách hàng bất thường\n",
        "\n",
        "# Thống kê mô tả cho các khách hàng bất thường\n",
        "print(\"\\nThống kê mô tả cho các khách hàng bất thường:\")\n",
        "df_anomaly.filter(\"anomaly == -1\").select(\"Recency\", \"Frequency\", \"Monetary\").describe().show()\n",
        "\n",
        "# Thống kê mô tả cho tất cả khách hàng (để so sánh)\n",
        "print(\"\\nThống kê mô tả cho tất cả khách hàng:\")\n",
        "df_anomaly.select(\"Recency\", \"Frequency\", \"Monetary\").describe().show()\n"
      ],
      "metadata": {
        "colab": {
          "base_uri": "https://localhost:8080/"
        },
        "id": "mm4qK6jwBy3q",
        "outputId": "a33eade3-3f38-469d-9531-dcede45d1860"
      },
      "execution_count": null,
      "outputs": [
        {
          "output_type": "stream",
          "name": "stdout",
          "text": [
            "\n",
            "Thống kê mô tả cho các khách hàng bất thường:\n",
            "+-------+-----------------+-----------------+------------------+\n",
            "|summary|          Recency|        Frequency|          Monetary|\n",
            "+-------+-----------------+-----------------+------------------+\n",
            "|  count|              118|              118|               118|\n",
            "|   mean|            101.0|60.73728813559322| 56263.37934745763|\n",
            "| stddev|187.6095235677905|58.78011000971225| 86282.31685117523|\n",
            "|    min|                0|                1|2995.5400000000004|\n",
            "|    max|              691|              379| 608821.6499999997|\n",
            "+-------+-----------------+-----------------+------------------+\n",
            "\n",
            "\n",
            "Thống kê mô tả cho tất cả khách hàng:\n",
            "+-------+------------------+------------------+-----------------+\n",
            "|summary|           Recency|         Frequency|         Monetary|\n",
            "+-------+------------------+------------------+-----------------+\n",
            "|  count|              5863|              5863|             5863|\n",
            "|   mean|200.44567627494456| 6.273409517311956|3000.317688555348|\n",
            "| stddev|209.18147430580188|12.846791105827842|14665.05540503503|\n",
            "|    min|                 0|                 1|             2.95|\n",
            "|    max|               738|               379|608821.6499999997|\n",
            "+-------+------------------+------------------+-----------------+\n",
            "\n"
          ]
        }
      ]
    }
  ]
}